{
 "cells": [
  {
   "cell_type": "code",
   "execution_count": 26,
   "metadata": {},
   "outputs": [
    {
     "name": "stdout",
     "output_type": "stream",
     "text": [
      "[(204, 213, 174), (233, 237, 201), (254, 250, 224), (250, 237, 205), (212, 163, 115)]\n"
     ]
    }
   ],
   "source": [
    "hex_colours = [\"ccd5ae\", \"e9edc9\", \"fefae0\", \"faedcd\", \"d4a373\"]\n",
    "colours = []\n",
    "for colour in hex_colours:\n",
    "    colours.append(tuple(int(colour[i:i+2], 16) for i in (0, 2, 4)))\n",
    "\n",
    "print(colours)"
   ]
  }
 ],
 "metadata": {
  "kernelspec": {
   "display_name": "base",
   "language": "python",
   "name": "python3"
  },
  "language_info": {
   "codemirror_mode": {
    "name": "ipython",
    "version": 3
   },
   "file_extension": ".py",
   "mimetype": "text/x-python",
   "name": "python",
   "nbconvert_exporter": "python",
   "pygments_lexer": "ipython3",
   "version": "3.12.4"
  }
 },
 "nbformat": 4,
 "nbformat_minor": 2
}
