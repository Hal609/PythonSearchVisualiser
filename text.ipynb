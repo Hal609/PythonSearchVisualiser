{
 "cells": [
  {
   "cell_type": "code",
   "execution_count": 29,
   "metadata": {},
   "outputs": [
    {
     "name": "stdout",
     "output_type": "stream",
     "text": [
      "[(0.8, 0.84, 0.68), (0.91, 0.93, 0.79), (1.0, 0.98, 0.88), (0.98, 0.93, 0.8), (0.83, 0.64, 0.45)]\n"
     ]
    }
   ],
   "source": [
    "hex_colours = [\"ccd5ae\", \"e9edc9\", \"fefae0\", \"faedcd\", \"d4a373\"]\n",
    "colours = []\n",
    "for colour in hex_colours:\n",
    "    colours.append(tuple(round(int(colour[i:i+2], 16)/255, 2) for i in (0, 2, 4)))\n",
    "\n",
    "print(colours)"
   ]
  },
  {
   "cell_type": "code",
   "execution_count": 32,
   "metadata": {},
   "outputs": [
    {
     "name": "stdout",
     "output_type": "stream",
     "text": [
      "index: 0 letter a\n",
      "index: 1 letter b\n",
      "index: 2 letter c\n",
      "index: 3 letter d\n",
      "index: 4 letter e\n",
      "['a', 'b', 't', 'd', 'e']\n"
     ]
    }
   ],
   "source": [
    "alphabet = [\"a\", \"b\", \"c\", \"d\", \"e\"]\n",
    "\n",
    "for index, letter in enumerate(alphabet):\n",
    "    print(\"index:\", index, \"letter\", letter)\n",
    "    if letter == \"c\":\n",
    "        alphabet[index] = \"t\"\n",
    "\n",
    "print(alphabet)"
   ]
  }
 ],
 "metadata": {
  "kernelspec": {
   "display_name": "base",
   "language": "python",
   "name": "python3"
  },
  "language_info": {
   "codemirror_mode": {
    "name": "ipython",
    "version": 3
   },
   "file_extension": ".py",
   "mimetype": "text/x-python",
   "name": "python",
   "nbconvert_exporter": "python",
   "pygments_lexer": "ipython3",
   "version": "3.12.4"
  }
 },
 "nbformat": 4,
 "nbformat_minor": 2
}
