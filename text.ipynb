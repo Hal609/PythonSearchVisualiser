{
 "cells": [
  {
   "cell_type": "code",
   "execution_count": 29,
   "metadata": {},
   "outputs": [
    {
     "name": "stdout",
     "output_type": "stream",
     "text": [
      "[(0.8, 0.84, 0.68), (0.91, 0.93, 0.79), (1.0, 0.98, 0.88), (0.98, 0.93, 0.8), (0.83, 0.64, 0.45)]\n"
     ]
    }
   ],
   "source": [
    "hex_colours = [\"ccd5ae\", \"e9edc9\", \"fefae0\", \"faedcd\", \"d4a373\"]\n",
    "colours = []\n",
    "for colour in hex_colours:\n",
    "    colours.append(tuple(round(int(colour[i:i+2], 16)/255, 2) for i in (0, 2, 4)))\n",
    "\n",
    "print(colours)"
   ]
  },
  {
   "cell_type": "code",
   "execution_count": 4,
   "metadata": {},
   "outputs": [
    {
     "ename": "TypeError",
     "evalue": "list.append() takes exactly one argument (2 given)",
     "output_type": "error",
     "traceback": [
      "\u001b[0;31m---------------------------------------------------------------------------\u001b[0m",
      "\u001b[0;31mTypeError\u001b[0m                                 Traceback (most recent call last)",
      "Cell \u001b[0;32mIn[4], line 3\u001b[0m\n\u001b[1;32m      1\u001b[0m alphabet \u001b[38;5;241m=\u001b[39m [\u001b[38;5;124m\"\u001b[39m\u001b[38;5;124ma\u001b[39m\u001b[38;5;124m\"\u001b[39m, \u001b[38;5;124m\"\u001b[39m\u001b[38;5;124mb\u001b[39m\u001b[38;5;124m\"\u001b[39m, \u001b[38;5;124m\"\u001b[39m\u001b[38;5;124mc\u001b[39m\u001b[38;5;124m\"\u001b[39m, \u001b[38;5;124m\"\u001b[39m\u001b[38;5;124md\u001b[39m\u001b[38;5;124m\"\u001b[39m, \u001b[38;5;124m\"\u001b[39m\u001b[38;5;124me\u001b[39m\u001b[38;5;124m\"\u001b[39m]\n\u001b[0;32m----> 3\u001b[0m alphabet\u001b[38;5;241m.\u001b[39mappend(\u001b[38;5;241m*\u001b[39m[\u001b[38;5;124m\"\u001b[39m\u001b[38;5;124mf\u001b[39m\u001b[38;5;124m\"\u001b[39m, \u001b[38;5;124m\"\u001b[39m\u001b[38;5;124mg\u001b[39m\u001b[38;5;124m\"\u001b[39m])\n\u001b[1;32m      5\u001b[0m \u001b[38;5;28mprint\u001b[39m(alphabet)\n",
      "\u001b[0;31mTypeError\u001b[0m: list.append() takes exactly one argument (2 given)"
     ]
    }
   ],
   "source": [
    "alphabet = [\"a\", \"b\", \"c\", \"d\", \"e\"]\n",
    "\n",
    "alphabet.append(*[\"f\", \"g\"])\n",
    "\n",
    "print(alphabet)"
   ]
  },
  {
   "cell_type": "code",
   "execution_count": 5,
   "metadata": {},
   "outputs": [
    {
     "name": "stdout",
     "output_type": "stream",
     "text": [
      "└── 0\n",
      "    ├── 536\n",
      "    │   ├── 585\n",
      "    │   ├── 201\n",
      "    │   └── 165\n",
      "    ├── 217\n",
      "    │   ├── 947\n",
      "    │   └── 626\n",
      "    └── 649\n",
      "\n"
     ]
    }
   ],
   "source": [
    "import random as rn\n",
    "\n",
    "\n",
    "class TreeNode():\n",
    "    def __init__(self, parent, value: float, children: dict) -> None:\n",
    "        self.parent: TreeNode = parent\n",
    "        self.value = value\n",
    "        self.children = children\n",
    "\n",
    "    def add_children(self, children):\n",
    "        if type(children) == list:\n",
    "            for i, child in enumerate(children):\n",
    "                self.children.append(child)\n",
    "                child.value = self.value + 1 + i\n",
    "                child.parent = self\n",
    "        elif type(children) == TreeNode:\n",
    "            self.children.append(children)\n",
    "            children.parent = self\n",
    "\n",
    "    def create_child(self, count = 1):\n",
    "        for i in range(1, count+1):\n",
    "            new_child =  TreeNode(self, rn.randint(0, 999), [])\n",
    "            self.children.append(new_child)\n",
    "\n",
    "    def __str__(self, prefix='', is_tail=True):\n",
    "        '''\n",
    "        https://chatgpt.com/share/672b2844-8b58-800e-a063-2f483f16694b\n",
    "        '''\n",
    "        ret = prefix + ('└── ' if is_tail else '├── ') + str(self.value) + '\\n'\n",
    "        for i, child in enumerate(self.children):\n",
    "            is_last = i == (len(self.children) - 1)\n",
    "            new_prefix = prefix + ('    ' if is_tail else '│   ')\n",
    "            ret += child.__str__(new_prefix, is_last)\n",
    "        return ret\n",
    "\n",
    "\n",
    "class Tree():\n",
    "    def __init__(self):\n",
    "        self.root = TreeNode(None, 0, [])\n",
    "\n",
    "    def __str__(self):\n",
    "        return self.root.__str__()\n",
    "\n",
    "    def traverse_tree(self):\n",
    "        all_nodes = []\n",
    "        open = []\n",
    "        closed = set()\n",
    "        open.append(self.root)\n",
    "        while len(open) > 0:\n",
    "            current_node = open.pop()\n",
    "            all_nodes.append(current_node)\n",
    "            closed.add(current_node)\n",
    "\n",
    "            for child in current_node.children:\n",
    "                open.append(child)\n",
    "        return all_nodes\n",
    "\n",
    "def setup_random_tree(node, probability = 1):\n",
    "    if probability < 0.1:\n",
    "        return\n",
    "    for i in range(3):\n",
    "        if rn.random() < probability:\n",
    "            node.create_child()\n",
    "            for child in node.children:\n",
    "                setup_random_tree(child, probability=probability*0.3)\n",
    "\n",
    "\n",
    "tree = Tree()\n",
    "setup_random_tree(tree.root)\n",
    "\n",
    "print(tree)"
   ]
  },
  {
   "cell_type": "code",
   "execution_count": null,
   "metadata": {},
   "outputs": [],
   "source": [
    "all_nodes = tree.traverse_tree()\n",
    "print(all_nodes)\n"
   ]
  },
  {
   "cell_type": "code",
   "execution_count": 207,
   "metadata": {},
   "outputs": [
    {
     "data": {
      "text/plain": [
       "[<matplotlib.lines.Line2D at 0x143e87aa0>]"
      ]
     },
     "execution_count": 207,
     "metadata": {},
     "output_type": "execute_result"
    },
    {
     "data": {
      "image/png": "[encoded data removed]",
      "text/plain": [
       "<Figure size 640x480 with 1 Axes>"
      ]
     },
     "metadata": {},
     "output_type": "display_data"
    }
   ],
   "source": [
    "time = [1,2,3,4,5,6,7,8,9,10]\n",
    "price = [20,32,26,180,30,45,18,120,57,15]\n",
    "\n",
    "import matplotlib.pyplot as plt\n",
    "\n",
    "plt.plot(time, price, \"b+\")"
   ]
  },
  {
   "cell_type": "code",
   "execution_count": null,
   "metadata": {},
   "outputs": [],
   "source": []
  }
 ],
 "metadata": {
  "kernelspec": {
   "display_name": "base",
   "language": "python",
   "name": "python3"
  },
  "language_info": {
   "codemirror_mode": {
    "name": "ipython",
    "version": 3
   },
   "file_extension": ".py",
   "mimetype": "text/x-python",
   "name": "python",
   "nbconvert_exporter": "python",
   "pygments_lexer": "ipython3",
   "version": "3.12.4"
  }
 },
 "nbformat": 4,
 "nbformat_minor": 2
}
